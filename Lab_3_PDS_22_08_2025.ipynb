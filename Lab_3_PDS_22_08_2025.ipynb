{
  "nbformat": 4,
  "nbformat_minor": 0,
  "metadata": {
    "colab": {
      "provenance": [],
      "authorship_tag": "ABX9TyMHfNlkrWcBAYQWKF7x03Az",
      "include_colab_link": true
    },
    "kernelspec": {
      "name": "python3",
      "display_name": "Python 3"
    },
    "language_info": {
      "name": "python"
    }
  },
  "cells": [
    {
      "cell_type": "markdown",
      "metadata": {
        "id": "view-in-github",
        "colab_type": "text"
      },
      "source": [
        "<a href=\"https://colab.research.google.com/github/2303A51494/2303A51494--B27/blob/main/Lab_3_PDS_22_08_2025.ipynb\" target=\"_parent\"><img src=\"https://colab.research.google.com/assets/colab-badge.svg\" alt=\"Open In Colab\"/></a>"
      ]
    },
    {
      "cell_type": "code",
      "execution_count": 1,
      "metadata": {
        "colab": {
          "base_uri": "https://localhost:8080/"
        },
        "id": "eb2JtDsP7DlZ",
        "outputId": "8a01eb56-8efc-42b6-a8cb-13d34d0f6c4f"
      },
      "outputs": [
        {
          "output_type": "stream",
          "name": "stdout",
          "text": [
            "Test Scores (4x4 Array):\n",
            " [[ 76  61  53  98]\n",
            " [ 66  83  63  98]\n",
            " [ 76 100  60  94]\n",
            " [ 83  65  98  77]]\n",
            "\n",
            "Row-wise Means: [72.   77.5  82.5  80.75]\n",
            "Column-wise Means: [75.25 77.25 68.5  91.75]\n",
            "\n",
            "Standard Deviation: 15.359112726651889\n",
            "Variance: 235.90234375\n",
            "\n",
            "Maximum Value: 100 at index (np.int64(2), np.int64(1))\n",
            "Minimum Value: 53 at index (np.int64(0), np.int64(2))\n",
            "\n",
            "Overall Median: 76.5\n",
            "Row-wise Medians: [68.5 74.5 85.  80. ]\n",
            "Column-wise Medians: [76.  74.  61.5 96. ]\n"
          ]
        }
      ],
      "source": [
        "import numpy as np\n",
        "\n",
        "scores = np.random.randint(50, 101, size=(4, 4))\n",
        "print(\"Test Scores (4x4 Array):\\n\", scores)\n",
        "\n",
        "row_means = np.mean(scores, axis=1)\n",
        "col_means = np.mean(scores, axis=0)\n",
        "print(\"\\nRow-wise Means:\", row_means)\n",
        "print(\"Column-wise Means:\", col_means)\n",
        "\n",
        "std_dev = np.std(scores)\n",
        "variance = np.var(scores)\n",
        "print(\"\\nStandard Deviation:\", std_dev)\n",
        "print(\"Variance:\", variance)\n",
        "\n",
        "max_val = np.max(scores)\n",
        "min_val = np.min(scores)\n",
        "max_idx = np.unravel_index(np.argmax(scores), scores.shape)\n",
        "min_idx = np.unravel_index(np.argmin(scores), scores.shape)\n",
        "print(\"\\nMaximum Value:\", max_val, \"at index\", max_idx)\n",
        "print(\"Minimum Value:\", min_val, \"at index\", min_idx)\n",
        "\n",
        "overall_median = np.median(scores)\n",
        "row_medians = np.median(scores, axis=1)\n",
        "col_medians = np.median(scores, axis=0)\n",
        "print(\"\\nOverall Median:\", overall_median)\n",
        "print(\"Row-wise Medians:\", row_medians)\n",
        "print(\"Column-wise Medians:\", col_medians)\n"
      ]
    },
    {
      "cell_type": "code",
      "source": [
        "import numpy as np\n",
        "\n",
        "image = np.random.randint(0, 256, size=(3, 3, 3), dtype=np.uint8)\n",
        "print(\"Original 3D Image Array (RGB):\\n\", image)\n",
        "\n",
        "red_channel = image[:, :, 0]\n",
        "green_channel = image[:, :, 1]\n",
        "blue_channel = image[:, :, 2]\n",
        "\n",
        "print(\"\\nRed Channel:\\n\", red_channel)\n",
        "print(\"\\nGreen Channel:\\n\", green_channel)\n",
        "print(\"\\nBlue Channel:\\n\", blue_channel)\n",
        "\n",
        "avg_red = np.mean(red_channel)\n",
        "avg_green = np.mean(green_channel)\n",
        "avg_blue = np.mean(blue_channel)\n",
        "print(\"\\nAverage Intensities - R:\", avg_red, \"G:\", avg_green, \"B:\", avg_blue)\n",
        "\n",
        "brightened_image = np.clip(image + 50, 0, 255)\n",
        "print(\"\\nBrightened Image Array:\\n\", brightened_image)\n",
        "\n",
        "try:\n",
        "    import matplotlib.pyplot as plt\n",
        "\n",
        "    plt.figure(figsize=(10, 4))\n",
        "\n",
        "    plt.subplot(1, 2, 1)\n",
        "    plt.imshow(image)\n",
        "    plt.title(\"Original Image\")\n",
        "\n",
        "    plt.subplot(1, 2, 2)\n",
        "    plt.imshow(brightened_image)\n",
        "    plt.title(\"Brightened Image\")\n",
        "\n",
        "    plt.show()\n",
        "except ImportError:\n",
        "    print(\"\\n(Matplotlib not available for visualization)\")\n"
      ],
      "metadata": {
        "colab": {
          "base_uri": "https://localhost:8080/",
          "height": 1000
        },
        "id": "R5oSRpBQ8iUN",
        "outputId": "b293d0c1-bd9c-4a65-84e2-d281dcb06e76"
      },
      "execution_count": 2,
      "outputs": [
        {
          "output_type": "stream",
          "name": "stdout",
          "text": [
            "Original 3D Image Array (RGB):\n",
            " [[[213 158  65]\n",
            "  [205 147  57]\n",
            "  [ 76 238 214]]\n",
            "\n",
            " [[ 56  22  79]\n",
            "  [  1  61 223]\n",
            "  [ 85 188  81]]\n",
            "\n",
            " [[193  43 162]\n",
            "  [225  28 132]\n",
            "  [253 180  22]]]\n",
            "\n",
            "Red Channel:\n",
            " [[213 205  76]\n",
            " [ 56   1  85]\n",
            " [193 225 253]]\n",
            "\n",
            "Green Channel:\n",
            " [[158 147 238]\n",
            " [ 22  61 188]\n",
            " [ 43  28 180]]\n",
            "\n",
            "Blue Channel:\n",
            " [[ 65  57 214]\n",
            " [ 79 223  81]\n",
            " [162 132  22]]\n",
            "\n",
            "Average Intensities - R: 145.22222222222223 G: 118.33333333333333 B: 115.0\n",
            "\n",
            "Brightened Image Array:\n",
            " [[[  7 208 115]\n",
            "  [255 197 107]\n",
            "  [126  32   8]]\n",
            "\n",
            " [[106  72 129]\n",
            "  [ 51 111  17]\n",
            "  [135 238 131]]\n",
            "\n",
            " [[243  93 212]\n",
            "  [ 19  78 182]\n",
            "  [ 47 230  72]]]\n"
          ]
        },
        {
          "output_type": "display_data",
          "data": {
            "text/plain": [
              "<Figure size 1000x400 with 2 Axes>"
            ],
            "image/png": "[encoded data removed]"
          },
          "metadata": {}
        }
      ]
    }
  ]
}