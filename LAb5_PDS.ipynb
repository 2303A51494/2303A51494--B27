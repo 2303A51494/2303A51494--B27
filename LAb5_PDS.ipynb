{
  "nbformat": 4,
  "nbformat_minor": 0,
  "metadata": {
    "colab": {
      "provenance": [],
      "authorship_tag": "ABX9TyMfYGgvf5xCdekeh0EAwiDs",
      "include_colab_link": true
    },
    "kernelspec": {
      "name": "python3",
      "display_name": "Python 3"
    },
    "language_info": {
      "name": "python"
    }
  },
  "cells": [
    {
      "cell_type": "markdown",
      "metadata": {
        "id": "view-in-github",
        "colab_type": "text"
      },
      "source": [
        "<a href=\"https://colab.research.google.com/github/2303A51494/2303A51494--B27/blob/main/LAb5_PDS.ipynb\" target=\"_parent\"><img src=\"https://colab.research.google.com/assets/colab-badge.svg\" alt=\"Open In Colab\"/></a>"
      ]
    },
    {
      "cell_type": "code",
      "execution_count": 1,
      "metadata": {
        "colab": {
          "base_uri": "https://localhost:8080/"
        },
        "id": "EaeHV3DAED0z",
        "outputId": "cdd30309-66bc-440d-a68b-bb20142f2f15"
      },
      "outputs": [
        {
          "output_type": "stream",
          "name": "stdout",
          "text": [
            "Customers Dataset:\n",
            "   customer_id   name       city\n",
            "0            1   Ravi      Delhi\n",
            "1            2  Sneha     Mumbai\n",
            "2            3   Amit      Delhi\n",
            "3            4  Priya  Bangalore\n",
            "\n",
            "Transactions Dataset:\n",
            "   transaction_id  customer_id  amount\n",
            "0             101            1    5000\n",
            "1             102            2    2000\n",
            "2             103            1    3000\n",
            "3             104            3    4000\n",
            "4             105            4    2500\n",
            "5             106            2    3500\n",
            "\n",
            "Merged Dataset:\n",
            "   transaction_id  customer_id  amount   name       city\n",
            "0             101            1    5000   Ravi      Delhi\n",
            "1             102            2    2000  Sneha     Mumbai\n",
            "2             103            1    3000   Ravi      Delhi\n",
            "3             104            3    4000   Amit      Delhi\n",
            "4             105            4    2500  Priya  Bangalore\n",
            "5             106            2    3500  Sneha     Mumbai\n",
            "\n",
            "Total Spend per Customer:\n",
            "   customer_id   name  amount\n",
            "0            1   Ravi    8000\n",
            "1            2  Sneha    5500\n",
            "2            3   Amit    4000\n",
            "3            4  Priya    2500\n",
            "\n",
            "City-wise Spending:\n",
            "        city  amount\n",
            "0  Bangalore    2500\n",
            "1      Delhi   12000\n",
            "2     Mumbai    5500\n",
            "\n",
            "Top Spender:\n",
            "customer_id       1\n",
            "name           Ravi\n",
            "amount         8000\n",
            "Name: 0, dtype: object\n"
          ]
        }
      ],
      "source": [
        "import pandas as pd\n",
        "\n",
        "customers = pd.DataFrame({\n",
        "    \"customer_id\": [1, 2, 3, 4],\n",
        "    \"name\": [\"Ravi\", \"Sneha\", \"Amit\", \"Priya\"],\n",
        "    \"city\": [\"Delhi\", \"Mumbai\", \"Delhi\", \"Bangalore\"]\n",
        "})\n",
        "\n",
        "transactions = pd.DataFrame({\n",
        "    \"transaction_id\": [101, 102, 103, 104, 105, 106],\n",
        "    \"customer_id\": [1, 2, 1, 3, 4, 2],\n",
        "    \"amount\": [5000, 2000, 3000, 4000, 2500, 3500]\n",
        "})\n",
        "\n",
        "print(\"Customers Dataset:\")\n",
        "print(customers)\n",
        "\n",
        "print(\"\\nTransactions Dataset:\")\n",
        "print(transactions)\n",
        "\n",
        "merged = pd.merge(transactions, customers, on=\"customer_id\", how=\"inner\")\n",
        "print(\"\\nMerged Dataset:\")\n",
        "print(merged)\n",
        "\n",
        "customer_spend = merged.groupby([\"customer_id\", \"name\"])[\"amount\"].sum().reset_index()\n",
        "print(\"\\nTotal Spend per Customer:\")\n",
        "print(customer_spend)\n",
        "\n",
        "city_spend = merged.groupby(\"city\")[\"amount\"].sum().reset_index()\n",
        "print(\"\\nCity-wise Spending:\")\n",
        "print(city_spend)\n",
        "\n",
        "top_spender = customer_spend.loc[customer_spend[\"amount\"].idxmax()]\n",
        "print(\"\\nTop Spender:\")\n",
        "print(top_spender)\n"
      ]
    },
    {
      "cell_type": "code",
      "source": [
        "import pandas as pd\n",
        "\n",
        "patients = pd.DataFrame({\n",
        "    \"patient_id\": [1, 2, 3, 4],\n",
        "    \"name\": [\"Ravi\", \"Sneha\", \"Amit\", \"Priya\"],\n",
        "    \"age\": [30, 25, 40, 35]\n",
        "})\n",
        "\n",
        "appointments = pd.DataFrame({\n",
        "    \"appointment_id\": [101, 102, 103, 104, 105, 106, 107],\n",
        "    \"patient_id\": [1, 2, 1, 3, 4, 2, 1],\n",
        "    \"doctor\": [\"Dr.A\", \"Dr.B\", \"Dr.C\", \"Dr.A\", \"Dr.B\", \"Dr.A\", \"Dr.C\"]\n",
        "})\n",
        "\n",
        "print(\"Patients Dataset:\")\n",
        "print(patients)\n",
        "\n",
        "print(\"\\nAppointments Dataset:\")\n",
        "print(appointments)\n",
        "\n",
        "merged = pd.merge(appointments, patients, on=\"patient_id\", how=\"inner\")\n",
        "print(\"\\nMerged Dataset:\")\n",
        "print(merged)\n",
        "\n",
        "patient_visits = merged.groupby([\"patient_id\", \"name\"])[\"appointment_id\"].count().reset_index(name=\"visits\")\n",
        "print(\"\\nAppointments per Patient:\")\n",
        "print(patient_visits)\n",
        "\n",
        "doctor_workload = merged.groupby(\"doctor\")[\"appointment_id\"].count().reset_index(name=\"appointments_handled\")\n",
        "print(\"\\nDoctor Workload:\")\n",
        "print(doctor_workload)\n",
        "\n",
        "top_patient = patient_visits.loc[patient_visits[\"visits\"].idxmax()]\n",
        "print(\"\\nPatient with Maximum Visits:\")\n",
        "print(top_patient)\n"
      ],
      "metadata": {
        "colab": {
          "base_uri": "https://localhost:8080/"
        },
        "id": "3z9NdJmzFxTj",
        "outputId": "8a49c56d-08a0-46e7-e3cf-6323323d01de"
      },
      "execution_count": 2,
      "outputs": [
        {
          "output_type": "stream",
          "name": "stdout",
          "text": [
            "Patients Dataset:\n",
            "   patient_id   name  age\n",
            "0           1   Ravi   30\n",
            "1           2  Sneha   25\n",
            "2           3   Amit   40\n",
            "3           4  Priya   35\n",
            "\n",
            "Appointments Dataset:\n",
            "   appointment_id  patient_id doctor\n",
            "0             101           1   Dr.A\n",
            "1             102           2   Dr.B\n",
            "2             103           1   Dr.C\n",
            "3             104           3   Dr.A\n",
            "4             105           4   Dr.B\n",
            "5             106           2   Dr.A\n",
            "6             107           1   Dr.C\n",
            "\n",
            "Merged Dataset:\n",
            "   appointment_id  patient_id doctor   name  age\n",
            "0             101           1   Dr.A   Ravi   30\n",
            "1             102           2   Dr.B  Sneha   25\n",
            "2             103           1   Dr.C   Ravi   30\n",
            "3             104           3   Dr.A   Amit   40\n",
            "4             105           4   Dr.B  Priya   35\n",
            "5             106           2   Dr.A  Sneha   25\n",
            "6             107           1   Dr.C   Ravi   30\n",
            "\n",
            "Appointments per Patient:\n",
            "   patient_id   name  visits\n",
            "0           1   Ravi       3\n",
            "1           2  Sneha       2\n",
            "2           3   Amit       1\n",
            "3           4  Priya       1\n",
            "\n",
            "Doctor Workload:\n",
            "  doctor  appointments_handled\n",
            "0   Dr.A                     3\n",
            "1   Dr.B                     2\n",
            "2   Dr.C                     2\n",
            "\n",
            "Patient with Maximum Visits:\n",
            "patient_id       1\n",
            "name          Ravi\n",
            "visits           3\n",
            "Name: 0, dtype: object\n"
          ]
        }
      ]
    }
  ]
}