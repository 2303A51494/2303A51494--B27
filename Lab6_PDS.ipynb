{
  "nbformat": 4,
  "nbformat_minor": 0,
  "metadata": {
    "colab": {
      "provenance": [],
      "authorship_tag": "ABX9TyPp3vgJlMZmnaK7NwIQgF9x",
      "include_colab_link": true
    },
    "kernelspec": {
      "name": "python3",
      "display_name": "Python 3"
    },
    "language_info": {
      "name": "python"
    }
  },
  "cells": [
    {
      "cell_type": "markdown",
      "metadata": {
        "id": "view-in-github",
        "colab_type": "text"
      },
      "source": [
        "<a href=\"https://colab.research.google.com/github/2303A51494/2303A51494--B27/blob/main/Lab6_PDS.ipynb\" target=\"_parent\"><img src=\"https://colab.research.google.com/assets/colab-badge.svg\" alt=\"Open In Colab\"/></a>"
      ]
    },
    {
      "cell_type": "code",
      "execution_count": 1,
      "metadata": {
        "colab": {
          "base_uri": "https://localhost:8080/"
        },
        "id": "48OsGTrjA6jK",
        "outputId": "182487c0-4ae7-49e5-e515-87e854129617"
      },
      "outputs": [
        {
          "output_type": "stream",
          "name": "stdout",
          "text": [
            "Dataset before cleaning:\n",
            "   Patient_ID  Age\n",
            "0         101   25\n",
            "1         102   45\n",
            "2         103   -5\n",
            "3         104   34\n",
            "4         105  150\n",
            "5         106   67\n",
            "6         107   89\n",
            "7         108  200\n",
            "\n",
            "Detected outliers:\n",
            "   Patient_ID  Age\n",
            "2         103   -5\n",
            "4         105  150\n",
            "7         108  200\n",
            "\n",
            "Dataset after cleaning:\n",
            "   Patient_ID  Age\n",
            "0         101   25\n",
            "1         102   45\n",
            "3         104   34\n",
            "5         106   67\n",
            "6         107   89\n"
          ]
        }
      ],
      "source": [
        "import pandas as pd\n",
        "\n",
        "data = {\n",
        "    \"Patient_ID\": [101, 102, 103, 104, 105, 106, 107, 108],\n",
        "    \"Age\": [25, 45, -5, 34, 150, 67, 89, 200]\n",
        "}\n",
        "\n",
        "df = pd.DataFrame(data)\n",
        "\n",
        "print(\"Dataset before cleaning:\")\n",
        "print(df)\n",
        "\n",
        "outliers = df[(df[\"Age\"] < 0) | (df[\"Age\"] > 120)]\n",
        "print(\"\\nDetected outliers:\")\n",
        "print(outliers)\n",
        "\n",
        "df_cleaned = df[(df[\"Age\"] >= 0) & (df[\"Age\"] <= 120)]\n",
        "print(\"\\nDataset after cleaning:\")\n",
        "print(df_cleaned)\n"
      ]
    },
    {
      "cell_type": "code",
      "source": [
        "import pandas as pd\n",
        "from sklearn.preprocessing import MinMaxScaler, StandardScaler\n",
        "\n",
        "data = {\n",
        "    \"Customer_ID\": [201, 202, 203, 204, 205],\n",
        "    \"Income\": [25000, 40000, 60000, 80000, 120000]\n",
        "}\n",
        "\n",
        "df = pd.DataFrame(data)\n",
        "print(\"Dataset before scaling:\")\n",
        "print(df)\n",
        "\n",
        "scaler_minmax = MinMaxScaler()\n",
        "df[\"Income_MinMax\"] = scaler_minmax.fit_transform(df[[\"Income\"]])\n",
        "\n",
        "scaler_standard = StandardScaler()\n",
        "df[\"Income_Standard\"] = scaler_standard.fit_transform(df[[\"Income\"]])\n",
        "\n",
        "print(\"\\nDataset after scaling:\")\n",
        "print(df)\n"
      ],
      "metadata": {
        "colab": {
          "base_uri": "https://localhost:8080/"
        },
        "id": "YSzyn5tMB-O7",
        "outputId": "30c97226-baec-4cdf-bbf3-a8ad725bd964"
      },
      "execution_count": 2,
      "outputs": [
        {
          "output_type": "stream",
          "name": "stdout",
          "text": [
            "Dataset before scaling:\n",
            "   Customer_ID  Income\n",
            "0          201   25000\n",
            "1          202   40000\n",
            "2          203   60000\n",
            "3          204   80000\n",
            "4          205  120000\n",
            "\n",
            "Dataset after scaling:\n",
            "   Customer_ID  Income  Income_MinMax  Income_Standard\n",
            "0          201   25000       0.000000        -1.206045\n",
            "1          202   40000       0.157895        -0.753778\n",
            "2          203   60000       0.368421        -0.150756\n",
            "3          204   80000       0.578947         0.452267\n",
            "4          205  120000       1.000000         1.658312\n"
          ]
        }
      ]
    }
  ]
}