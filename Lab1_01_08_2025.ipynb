{
  "nbformat": 4,
  "nbformat_minor": 0,
  "metadata": {
    "colab": {
      "provenance": [],
      "authorship_tag": "ABX9TyOGzsNnv1ncEDPPZWtZAv00",
      "include_colab_link": true
    },
    "kernelspec": {
      "name": "python3",
      "display_name": "Python 3"
    },
    "language_info": {
      "name": "python"
    }
  },
  "cells": [
    {
      "cell_type": "markdown",
      "metadata": {
        "id": "view-in-github",
        "colab_type": "text"
      },
      "source": [
        "<a href=\"https://colab.research.google.com/github/2303A51494/2303A51494--B27/blob/main/Lab1_01_08_2025.ipynb\" target=\"_parent\"><img src=\"https://colab.research.google.com/assets/colab-badge.svg\" alt=\"Open In Colab\"/></a>"
      ]
    },
    {
      "cell_type": "code",
      "source": [
        "def factorial(n):\n",
        "  if n==0 or n==1:\n",
        "    return 1\n",
        "  else:\n",
        "    return n*factorial(n-1)\n",
        "number=int(input(\"Enter a number:\"))\n",
        "if number<0:\n",
        "  print(\"Factorial is not defined for negative numers.\")\n",
        "else:\n",
        "  result=factorial(number)\n",
        "  print(f\"The factorial of {number} is {result}\")\n",
        "\n"
      ],
      "metadata": {
        "id": "srIVSNZ_y9Kv",
        "colab": {
          "base_uri": "https://localhost:8080/"
        },
        "outputId": "ed9457de-4b1d-4d66-cdc8-6a9c37035f65"
      },
      "execution_count": 4,
      "outputs": [
        {
          "output_type": "stream",
          "name": "stdout",
          "text": [
            "Enter a number:5\n",
            "The factorial of 5 is 120\n"
          ]
        }
      ]
    },
    {
      "cell_type": "code",
      "source": [
        "def factorial(n, depth=0):\n",
        "    indent = \"  \" * depth\n",
        "    print(f\"{indent}  factorial({n}) called\")\n",
        "\n",
        "    if n == 0 or n == 1:\n",
        "        print(f\"{indent} Base case reached: factorial({n}) = 1\")\n",
        "        return 1\n",
        "    else:\n",
        "        print(f\"{indent}  Recursive case: {n} * factorial({n-1})\")\n",
        "        result = n * factorial(n - 1, depth + 1)\n",
        "        print(f\"{indent} Returning: {n} * factorial({n-1}) = {result}\")\n",
        "        return result\n",
        "\n",
        "if __name__ == \"__main__\":\n",
        "    try:\n",
        "        user_input = int(input(\"Enter a number (0-10) to calculate factorial: \"))\n",
        "        if user_input < 0 or user_input > 10:\n",
        "            print(\"Please enter a number between 0 and 10.\")\n",
        "        else:\n",
        "            print(\"\\n--- Factorial Trace ---\")\n",
        "            fact = factorial(user_input)\n",
        "            print(f\"\\nFinal Result: factorial({user_input}) = {fact}\")\n",
        "    except ValueError:\n",
        "        print(\"Invalid input. Please enter an integer.\")\n"
      ],
      "metadata": {
        "colab": {
          "base_uri": "https://localhost:8080/"
        },
        "id": "0a08YnkT3TG0",
        "outputId": "3345ec17-e04c-4cd2-a76f-84eae6a0f3d0"
      },
      "execution_count": 11,
      "outputs": [
        {
          "output_type": "stream",
          "name": "stdout",
          "text": [
            "Enter a number (0-10) to calculate factorial: 4\n",
            "\n",
            "--- Factorial Trace ---\n",
            "  factorial(4) called\n",
            "  Recursive case: 4 * factorial(3)\n",
            "    factorial(3) called\n",
            "    Recursive case: 3 * factorial(2)\n",
            "      factorial(2) called\n",
            "      Recursive case: 2 * factorial(1)\n",
            "        factorial(1) called\n",
            "       Base case reached: factorial(1) = 1\n",
            "     Returning: 2 * factorial(1) = 2\n",
            "   Returning: 3 * factorial(2) = 6\n",
            " Returning: 4 * factorial(3) = 24\n",
            "\n",
            "Final Result: factorial(4) = 24\n"
          ]
        }
      ]
    },
    {
      "cell_type": "code",
      "source": [
        "import time\n",
        "import sys\n",
        "\n",
        "def factorial_recursive(n):\n",
        "    if n < 0:\n",
        "        raise ValueError(\"Negative numbers not allowed.\")\n",
        "    if n == 0 or n == 1:\n",
        "        return 1\n",
        "    return n * factorial_recursive(n - 1)\n",
        "\n",
        "def factorial_iterative(n):\n",
        "    if n < 0:\n",
        "        raise ValueError(\"Negative numbers not allowed.\")\n",
        "    result = 1\n",
        "    for i in range(2, n + 1):\n",
        "        result *= i\n",
        "    return result\n",
        "\n",
        "def compare_factorial_methods(n):\n",
        "    if n < 0:\n",
        "        print(\"Invalid input. Enter a non-negative number.\")\n",
        "        return\n",
        "\n",
        "    print(f\"\\nFactorial Comparison for n = {n}\")\n",
        "    print(\"-\" * 50)\n",
        "\n",
        "    try:\n",
        "        start = time.time()\n",
        "        result_r = factorial_recursive(n)\n",
        "        end = time.time()\n",
        "        time_r = (end - start) * 1e6\n",
        "        size_r = sys.getsizeof(result_r)\n",
        "    except RecursionError:\n",
        "        result_r = \"Recursion Limit Exceeded\"\n",
        "        time_r = \"N/A\"\n",
        "        size_r = \"N/A\"\n",
        "\n",
        "    start = time.time()\n",
        "    result_i = factorial_iterative(n)\n",
        "    end = time.time()\n",
        "    time_i = (end - start) * 1e6\n",
        "    size_i = sys.getsizeof(result_i)\n",
        "\n",
        "    print(f\"{'Method':<12} | {'Result':<20} | {'Time (µs)':<12} | {'Size (bytes)'}\")\n",
        "    print(\"-\" * 60)\n",
        "    print(f\"{'Recursive':<12} | {str(result_r):<20} | {str(round(time_r, 2)):<12} | {str(size_r)}\")\n",
        "    print(f\"{'Iterative':<12} | {str(result_i):<20} | {str(round(time_i, 2)):<12} | {str(size_i)}\")\n",
        "\n",
        "if __name__ == \"__main__\":\n",
        "    try:\n",
        "        num = int(input(\"Enter a number (0–100) to compare factorial methods: \"))\n",
        "        compare_factorial_methods(num)\n",
        "    except ValueError:\n",
        "        print(\"Invalid input. Please enter an integer.\")\n"
      ],
      "metadata": {
        "colab": {
          "base_uri": "https://localhost:8080/"
        },
        "id": "WM81g1U75GA1",
        "outputId": "c7e01a76-1c3b-4061-d8cc-7fff17ebd20a"
      },
      "execution_count": 12,
      "outputs": [
        {
          "output_type": "stream",
          "name": "stdout",
          "text": [
            "Enter a number (0–100) to compare factorial methods: 6\n",
            "\n",
            "Factorial Comparison for n = 6\n",
            "--------------------------------------------------\n",
            "Method       | Result               | Time (µs)    | Size (bytes)\n",
            "------------------------------------------------------------\n",
            "Recursive    | 720                  | 6.2          | 28\n",
            "Iterative    | 720                  | 5.96         | 28\n"
          ]
        }
      ]
    }
  ]
}